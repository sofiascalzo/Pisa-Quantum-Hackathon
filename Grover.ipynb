{
 "cells": [
  {
   "cell_type": "markdown",
   "id": "a1912850-ba42-4b11-9e45-19ac86e38ec9",
   "metadata": {},
   "source": [
    "# Grover\n",
    "\n",
    "L'algoritmo di Grover è un algoritmo quantistico progettato per eseguire la ricerca non strutturata in un database con $N$ elementi in modo più efficiente rispetto agli algoritmi classici. Mentre un algoritmo classico richiede in media $O(N)$ interrogazioni per trovare un elemento specifico, Grover permette di farlo in $O(\\sqrt{N})$, offrendo un notevole vantaggio per problemi di ricerca su larga scala.\n",
    "\n",
    "Il funzionamento si basa su:\n",
    "\n",
    "1. Inizializzazione: si prepara un registro quantistico in una sovrapposizione uniforme di tutti i possibili stati.\n",
    "2. Oracolo quantistico: applica una funzione (l'oracolo) che inverte la fase dell'elemento cercato.\n",
    "3. Amplificazione di ampiezza: aumenta la probabilità dello stato desiderato usando una trasformazione chiamata diffusore di Grover.\n",
    "4. Ripetizione: si iterano i passi 2 e 3 circa $\\sqrt{N}$ volte\n",
    "\n",
    "Al termine, la misura del registro quantistico fornisce l'elemento cercato con alta probabilità. \n",
    "\n"
   ]
  },
  {
   "cell_type": "markdown",
   "id": "6d05a73b-bb06-4eca-a004-2752244fc63b",
   "metadata": {},
   "source": [
    "## Esercizio 1\n",
    "Data una formula SAT a $n$ variabili, qual è il numero di ripetizioni degli steps di Diffusione e Oracolo per l'algoritmo di Grover se è presente solo una soluzione?"
   ]
  },
  {
   "cell_type": "code",
   "execution_count": 1,
   "id": "7a0d6ab7-e87c-4c70-8368-020051f01f38",
   "metadata": {},
   "outputs": [],
   "source": [
    "def grov_func1(n):\n",
    "    import math\n",
    "    return math.floor((math.pi / 4) * math.sqrt(n))"
   ]
  },
  {
   "cell_type": "markdown",
   "id": "f0c0313c-5a80-4caf-8d18-5598495fe063",
   "metadata": {},
   "source": [
    "## Esercizio 2\n",
    "Implementare l'Oracolo di Grover per trovare la soluzione che soddisfa la seguente formula booleana:\n",
    "\n",
    "(x ∧ ¬y) ∧ x \n",
    "\n",
    "Dato il circuito per il Diffusore, restituire il circuito con il giusto numero di ripetizioni di Diffusione-Oracolo\n"
   ]
  },
  {
   "cell_type": "code",
   "execution_count": null,
   "id": "6f53189e-1703-4013-8a72-72d24440440c",
   "metadata": {},
   "outputs": [],
   "source": [
    "def grov_func2():\n",
    "    from qiskit import QuantumRegister, QuantumCircuit, ClassicalRegister\n",
    "    from qiskit.circuit.library import HGate, XGate, ZGate, MCXGate\n",
    "\n",
    "    def get_diffuser():\n",
    "        from qiskit import QuantumRegister, QuantumCircuit\n",
    "        from qiskit.circuit.library import HGate, XGate, ZGate\n",
    "\n",
    "        d = QuantumRegister(2, 'd')\n",
    "        m = QuantumRegister(1, 'm')\n",
    "        \n",
    "        diffuser = QuantumCircuit(d, m, name='diffuser')\n",
    "        \n",
    "        for i in range(len(d)):\n",
    "            diffuser.append(HGate(), [d[i]])\n",
    "            diffuser.append(XGate(), [d[i]])\n",
    "        \n",
    "        MCZGate = ZGate().control(len(d))\n",
    "        diffuser.append(MCZGate, d[0:]+[m])\n",
    "\n",
    "        for i in range(len(d)):\n",
    "            diffuser.append(XGate(), [d[i]])\n",
    "            diffuser.append(HGate(), [d[i]])\n",
    "\n",
    "        return diffuser\n",
    "\n",
    "    #------------------\n",
    "    \n",
    "    def get_oracle():\n",
    "        qc = QuantumCircuit(3)\n",
    "        # 0 => x | 1 => y\n",
    "        # |->\n",
    "        qc.x(2)\n",
    "        qc.h(2)\n",
    "        \n",
    "        qc.x(1)\n",
    "        qc.ccx(0, 1, 2)\n",
    "        qc.x(1)\n",
    "        \n",
    "        return qc\n",
    "        \n",
    "    dif = get_diffuser()\n",
    "    orc = get_oracle()\n",
    "    \n",
    "    n = 2\n",
    "    \n",
    "    qc = QuantumCircuit(n + 1)    \n",
    "\n",
    "    qc.h(range(n + 1))\n",
    "\n",
    "    for i in range(n):  \n",
    "        qc.barrier()\n",
    "        qc.compose(orc, inplace=True)\n",
    "        qc.barrier()\n",
    "        qc.compose(dif, inplace=True)\n",
    "\n",
    "    #------------------\n",
    "    \n",
    "    return qc   "
   ]
  }
 ],
 "metadata": {
  "kernelspec": {
   "display_name": "Python 3",
   "language": "python",
   "name": "python3"
  },
  "language_info": {
   "codemirror_mode": {
    "name": "ipython",
    "version": 3
   },
   "file_extension": ".py",
   "mimetype": "text/x-python",
   "name": "python",
   "nbconvert_exporter": "python",
   "pygments_lexer": "ipython3",
   "version": "3.10.12"
  }
 },
 "nbformat": 4,
 "nbformat_minor": 5
}
