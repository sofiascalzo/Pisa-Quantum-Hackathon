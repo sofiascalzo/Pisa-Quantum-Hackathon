{
 "cells": [
  {
   "cell_type": "markdown",
   "id": "338b84de-2aec-4756-a1a3-19dea08d9a25",
   "metadata": {},
   "source": [
    "# Sovrapposizione ed entanglement"
   ]
  },
  {
   "cell_type": "markdown",
   "id": "a1912850-ba42-4b11-9e45-19ac86e38ec9",
   "metadata": {},
   "source": [
    "In questa serie di problemi esploreremo i concetti base di sovrapposizione ed entanglement."
   ]
  },
  {
   "cell_type": "markdown",
   "id": "6d05a73b-bb06-4eca-a004-2752244fc63b",
   "metadata": {},
   "source": [
    "## Esercizio 1\n",
    "\n",
    "Preparare lo stato $|\\psi \\rangle = \\frac{1}{\\sqrt{2}}(|0\\rangle +|1\\rangle)$. In questo ed i successivi esercizi, l'input 'qc' è un circuito quantistico ('qiskit.QuantumCircuit') inizializzato allo stato con tutti i qubit in $|0\\rangle$."
   ]
  },
  {
   "cell_type": "code",
   "execution_count": null,
   "id": "7a0d6ab7-e87c-4c70-8368-020051f01f38",
   "metadata": {},
   "outputs": [],
   "source": [
    "def ent_func1(qc):\n",
    "    \n",
    "    qc.h(0)\n",
    "    \n",
    "    return qc"
   ]
  },
  {
   "cell_type": "markdown",
   "id": "f0c0313c-5a80-4caf-8d18-5598495fe063",
   "metadata": {},
   "source": [
    "## Esercizio 2\n",
    "Preparare lo stato $|\\psi \\rangle = \\frac{1}{\\sqrt{2}}(|00\\rangle +|11\\rangle)$\n"
   ]
  },
  {
   "cell_type": "code",
   "execution_count": null,
   "id": "6f53189e-1703-4013-8a72-72d24440440c",
   "metadata": {},
   "outputs": [],
   "source": [
    "def ent_func2(qc):\n",
    "    \n",
    "    qc.h(0)\n",
    "    qc.cx(0, 1)\n",
    "    return qc  "
   ]
  },
  {
   "cell_type": "markdown",
   "id": "9ac0d0c8-c0d2-4ef1-8ddd-038cf5075139",
   "metadata": {},
   "source": [
    "## Esercizio 3\n",
    "Preparare lo stato $|\\psi \\rangle = \\frac{1}{\\sqrt{2}}(|00\\cdots 0\\rangle +|11\\cdots 1\\rangle)$ per un numero di qubit $n$.\n"
   ]
  },
  {
   "cell_type": "code",
   "execution_count": null,
   "id": "cf799bcf-abe9-4a42-80b3-1b27de9730f5",
   "metadata": {},
   "outputs": [],
   "source": [
    "def ent_func3(qc, n):\n",
    "    \n",
    "    qc.h(0)\n",
    "    for i in range(1, n):\n",
    "        qc.cx(0, i)\n",
    "    \n",
    "    return qc   "
   ]
  },
  {
   "cell_type": "markdown",
   "id": "ec88d0a2-5c33-41f1-b584-535aeb189ad6",
   "metadata": {},
   "source": [
    "## Esercizio 4\n",
    "Preparare uno dei quattro stati di Bell data una coppia $a,b\\in \\{0,1\\}$:\n",
    "$|\\beta_{a,b}\\rangle \\equiv \\frac{1}{\\sqrt{2}}(|0 b\\rangle +(-1)^a|1 \\bar{b}\\rangle)$\n"
   ]
  },
  {
   "cell_type": "code",
   "execution_count": 6,
   "id": "0ed42844-0527-4562-ba4c-d5f5361c45d1",
   "metadata": {},
   "outputs": [],
   "source": [
    "def ent_func4(qc, a, b):\n",
    "    if  (a, b) == (0, 0):\n",
    "        qc.h(0)\n",
    "        qc.cx(0, 1)\n",
    "    elif (a, b) == (0, 1):\n",
    "        qc.h(1)\n",
    "        qc.cx(0, 1)\n",
    "    elif (a, b) == (1, 0):\n",
    "        qc.h(0)\n",
    "        qc.cx(0, 1)\n",
    "        qc.z(1)\n",
    "    elif (a, b) == (1, 1):\n",
    "        qc.x(1)\n",
    "        qc.h(0)\n",
    "        qc.z(0)\n",
    "        qc.z(1)\n",
    "        qc.cx(0, 1)\n",
    "\n",
    "    return qc   "
   ]
  },
  {
   "cell_type": "markdown",
   "id": "16231c76-e415-4f75-924f-22e17b427d70",
   "metadata": {},
   "source": [
    "## Esercizio 5\n",
    "Teletrasporto quantistico: Alice ha un qubit (con label $0$) in uno stato arbitrario $|\\psi \\rangle = \\alpha|0\\rangle +\\beta|1\\rangle$,\n",
    "già preparato da noi nel circuito fornito come input in 'qc_input', e condivide con Bruno uno di due qubit massimamente entanglati (Alice possiede quello con label $1$, mentre Bruno possiede quello con label $2$). Implementare il circuito che implementa il teletrasporto quantistico, assumendo che in input sia dato un circuito che prepara lo stato del qubit da teletrasportare. Il circuito finale deve contenere le misurazioni opportune per potere essere eseguito, in modo che, sul singolo qubit posseduto da Bruno (label $2$) sia *scritto* lo stato originale $|\\psi\\rangle$ che possedeva inizialmente Alice."
   ]
  },
  {
   "cell_type": "code",
   "execution_count": null,
   "id": "ca04ca38-acc0-40eb-839d-b285262294d6",
   "metadata": {},
   "outputs": [],
   "source": [
    "def ent_func5(qc_input):\n",
    "    from qiskit import QuantumCircuit\n",
    "    from qiskit.circuit import QuantumRegister, ClassicalRegister\n",
    "\n",
    "    qReg = QuantumRegister(3)\n",
    "    qs = ClassicalRegister(1, \"start\")\n",
    "    a1 = ClassicalRegister(1, \"A\")\n",
    "    b2 = ClassicalRegister(1, \"B\")\n",
    "    \n",
    "    qc = QuantumCircuit(qReg, qs, a1, b2)\n",
    "    qc.compose(qc_input, inplace=True)\n",
    "  \n",
    "    qc.cx(0, 1)\n",
    "    qc.h(0)\n",
    "        \n",
    "    qc.measure(0, qs)\n",
    "    qc.measure(1, a1)\n",
    "    qc.barrier()\n",
    "    with qc.if_test((qs, 1)):\n",
    "        qc.x(1)\n",
    "    with qc.if_test((a1, 1)):\n",
    "        qc.z(1)\n",
    "\n",
    "    qc.measure([0, 1], [\"start\", \"A\"])\n",
    "    \n",
    "    \n",
    "    \n",
    "    \n",
    "    #------------------\n",
    "\n",
    "    #TODO: implementare \n",
    "\n",
    "    #------------------\n",
    "    return 0 # sostituire col QuantumCircuit finale"
   ]
  }
 ],
 "metadata": {
  "kernelspec": {
   "display_name": "Python 3",
   "language": "python",
   "name": "python3"
  },
  "language_info": {
   "codemirror_mode": {
    "name": "ipython",
    "version": 3
   },
   "file_extension": ".py",
   "mimetype": "text/x-python",
   "name": "python",
   "nbconvert_exporter": "python",
   "pygments_lexer": "ipython3",
   "version": "3.10.12"
  }
 },
 "nbformat": 4,
 "nbformat_minor": 5
}
